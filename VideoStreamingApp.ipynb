{
 "cells": [
  {
   "cell_type": "code",
   "execution_count": 5,
   "metadata": {},
   "outputs": [],
   "source": [
    "import cv2\n",
    "import socket as s\n",
    "import threading as thread\n",
    "import numpy as np"
   ]
  },
  {
   "cell_type": "code",
   "execution_count": 2,
   "metadata": {},
   "outputs": [],
   "source": [
    "def incoming():\n",
    "    camera=cv2.VideoCapture(0)\n",
    "    MainSoc=s.socket(socket.AF_INET,socket.SOCK_STREAM)\n",
    "    MainSoc.bind(s.gethostbyname(s.gethostbyname()),12345)\n",
    "    s.listen(10)\n",
    "    conn,addr=s.accept()\n",
    "    while True:\n",
    "        data=conn.recv(90000)\n",
    "        ConToArr=np.fromstring(data,np.uint8)\n",
    "        img=cv2.imdecode(ConToArr,cv2.IMREAD_COLOR)\n",
    "        ret,pic=camera.read()\n",
    "        cropImg=cv2.resize(pic,(100,100),3)\n",
    "        if type(cropImg) is type(None):\n",
    "            pass\n",
    "        else:\n",
    "            img[:100,:100]=cropImg\n",
    "            cv2.imshow('Output',img)\n",
    "            if cv2.waitKey(1)==13:\n",
    "                break\n",
    "        cv2.destroyAllWindows()\n",
    "        camer.release()"
   ]
  },
  {
   "cell_type": "code",
   "execution_count": 4,
   "metadata": {},
   "outputs": [],
   "source": [
    "def outgoing():\n",
    "    camera=cv2.VideoCapture(0)\n",
    "    MainSock=s.socket(s.AF_INET,s.SOCK_STREAM)\n",
    "    MainSock.connect((s.gethostname(s.gethostbyname()),12346))\n",
    "    while True:\n",
    "        ret,photo=camera.read()\n",
    "        cphoto=cv2.resize(photo,(400,400))\n",
    "        encodePhoto=cv2.imencode(\".jpg\",cphoto)[1].tobytes()\n",
    "        MainSock.sendall(encodePhoto)\n",
    "    camera.release()\n",
    "    cv2.destroyAllWindows()"
   ]
  },
  {
   "cell_type": "code",
   "execution_count": null,
   "metadata": {},
   "outputs": [],
   "source": [
    "input1=thread.Thread(target=incoming)\n",
    "outgo1=thread.Thread(target=outgoing)\n",
    "input1.start()\n",
    "outgo1.start()"
   ]
  }
 ],
 "metadata": {
  "kernelspec": {
   "display_name": "Python 3",
   "language": "python",
   "name": "python3"
  },
  "language_info": {
   "codemirror_mode": {
    "name": "ipython",
    "version": 3
   },
   "file_extension": ".py",
   "mimetype": "text/x-python",
   "name": "python",
   "nbconvert_exporter": "python",
   "pygments_lexer": "ipython3",
   "version": "3.7.6"
  }
 },
 "nbformat": 4,
 "nbformat_minor": 4
}
